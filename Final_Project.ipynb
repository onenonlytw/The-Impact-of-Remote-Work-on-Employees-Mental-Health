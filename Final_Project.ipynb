{
  "nbformat": 4,
  "nbformat_minor": 0,
  "metadata": {
    "colab": {
      "provenance": []
    },
    "kernelspec": {
      "name": "python3",
      "display_name": "Python 3"
    },
    "language_info": {
      "name": "python"
    }
  },
  "cells": [
    {
      "cell_type": "code",
      "execution_count": null,
      "metadata": {
        "colab": {
          "base_uri": "https://localhost:8080/"
        },
        "id": "S-VDSTkaWhvX",
        "outputId": "a7fc0724-cfe6-4eb6-8bb7-88d945bcf765"
      },
      "outputs": [
        {
          "output_type": "stream",
          "name": "stdout",
          "text": [
            "Drive already mounted at /content/drive; to attempt to forcibly remount, call drive.mount(\"/content/drive\", force_remount=True).\n"
          ]
        }
      ],
      "source": [
        "from google.colab import drive\n",
        "drive.mount('/content/drive')"
      ]
    },
    {
      "cell_type": "markdown",
      "source": [
        "## Import Library"
      ],
      "metadata": {
        "id": "-U416yDHC2_x"
      }
    },
    {
      "cell_type": "code",
      "source": [
        "import pandas as pd\n",
        "import numpy as np\n",
        "import matplotlib.pyplot as plt\n",
        "import seaborn as sns\n",
        "from matplotlib.patches import Patch\n",
        "import warnings\n",
        "from math import pi\n",
        "warnings.filterwarnings('ignore')"
      ],
      "metadata": {
        "id": "toCTLbkNczKv"
      },
      "execution_count": null,
      "outputs": []
    },
    {
      "cell_type": "code",
      "source": [
        "# Mengatur gaya plot untuk tampilan yang lebih baik\n",
        "plt.style.use('seaborn-v0_8-whitegrid')\n",
        "\n",
        "# Mengatur format tampilan data pandas\n",
        "pd.set_option('display.max_columns', None)  # Menampilkan semua kolom\n",
        "pd.set_option('display.width', 1000)        # Lebar tampilan\n",
        "pd.set_option('display.float_format', '{:.2f}'.format)  # Format angka desimal"
      ],
      "metadata": {
        "id": "a4k72wqZfP_C"
      },
      "execution_count": null,
      "outputs": []
    },
    {
      "cell_type": "markdown",
      "source": [
        "## Load Data"
      ],
      "metadata": {
        "id": "9HUCBzKBC5ye"
      }
    },
    {
      "cell_type": "code",
      "source": [
        "df = pd.read_csv('/content/drive/MyDrive/Data Analyst Screenesia/Impact_of_Remote_Work_on_Mental_Health.csv')"
      ],
      "metadata": {
        "id": "cBhyFjLVdB6l"
      },
      "execution_count": null,
      "outputs": []
    },
    {
      "cell_type": "markdown",
      "source": [
        "## Data Exploration"
      ],
      "metadata": {
        "id": "CrggKZ62C8M_"
      }
    },
    {
      "cell_type": "code",
      "source": [
        "df.head()"
      ],
      "metadata": {
        "colab": {
          "base_uri": "https://localhost:8080/",
          "height": 313
        },
        "id": "1ali0Dned4zE",
        "outputId": "cfa52626-0faa-4a00-8a1d-a8e417737bf4"
      },
      "execution_count": null,
      "outputs": [
        {
          "output_type": "execute_result",
          "data": {
            "text/plain": [
              "  Employee_ID  Age      Gender           Job_Role    Industry  Years_of_Experience Work_Location  Hours_Worked_Per_Week  Number_of_Virtual_Meetings  Work_Life_Balance_Rating Stress_Level Mental_Health_Condition Access_to_Mental_Health_Resources Productivity_Change  Social_Isolation_Rating Satisfaction_with_Remote_Work  Company_Support_for_Remote_Work Physical_Activity Sleep_Quality         Region\n",
              "0     EMP0001   32  Non-binary                 HR  Healthcare                   13        Hybrid                     47                           7                         2       Medium              Depression                                No            Decrease                        1                   Unsatisfied                                1            Weekly          Good         Europe\n",
              "1     EMP0002   40      Female     Data Scientist          IT                    3        Remote                     52                           4                         1       Medium                 Anxiety                                No            Increase                        3                     Satisfied                                2            Weekly          Good           Asia\n",
              "2     EMP0003   59  Non-binary  Software Engineer   Education                   22        Hybrid                     46                          11                         5       Medium                 Anxiety                                No           No Change                        4                   Unsatisfied                                5               NaN          Poor  North America\n",
              "3     EMP0004   27        Male  Software Engineer     Finance                   20        Onsite                     32                           8                         4         High              Depression                               Yes            Increase                        3                   Unsatisfied                                3               NaN          Poor         Europe\n",
              "4     EMP0005   49        Male              Sales  Consulting                   32        Onsite                     35                          12                         2         High                     NaN                               Yes            Decrease                        3                   Unsatisfied                                3            Weekly       Average  North America"
            ],
            "text/html": [
              "\n",
              "  <div id=\"df-aca169cd-9701-4dc8-87d6-f604a7975d47\" class=\"colab-df-container\">\n",
              "    <div>\n",
              "<style scoped>\n",
              "    .dataframe tbody tr th:only-of-type {\n",
              "        vertical-align: middle;\n",
              "    }\n",
              "\n",
              "    .dataframe tbody tr th {\n",
              "        vertical-align: top;\n",
              "    }\n",
              "\n",
              "    .dataframe thead th {\n",
              "        text-align: right;\n",
              "    }\n",
              "</style>\n",
              "<table border=\"1\" class=\"dataframe\">\n",
              "  <thead>\n",
              "    <tr style=\"text-align: right;\">\n",
              "      <th></th>\n",
              "      <th>Employee_ID</th>\n",
              "      <th>Age</th>\n",
              "      <th>Gender</th>\n",
              "      <th>Job_Role</th>\n",
              "      <th>Industry</th>\n",
              "      <th>Years_of_Experience</th>\n",
              "      <th>Work_Location</th>\n",
              "      <th>Hours_Worked_Per_Week</th>\n",
              "      <th>Number_of_Virtual_Meetings</th>\n",
              "      <th>Work_Life_Balance_Rating</th>\n",
              "      <th>Stress_Level</th>\n",
              "      <th>Mental_Health_Condition</th>\n",
              "      <th>Access_to_Mental_Health_Resources</th>\n",
              "      <th>Productivity_Change</th>\n",
              "      <th>Social_Isolation_Rating</th>\n",
              "      <th>Satisfaction_with_Remote_Work</th>\n",
              "      <th>Company_Support_for_Remote_Work</th>\n",
              "      <th>Physical_Activity</th>\n",
              "      <th>Sleep_Quality</th>\n",
              "      <th>Region</th>\n",
              "    </tr>\n",
              "  </thead>\n",
              "  <tbody>\n",
              "    <tr>\n",
              "      <th>0</th>\n",
              "      <td>EMP0001</td>\n",
              "      <td>32</td>\n",
              "      <td>Non-binary</td>\n",
              "      <td>HR</td>\n",
              "      <td>Healthcare</td>\n",
              "      <td>13</td>\n",
              "      <td>Hybrid</td>\n",
              "      <td>47</td>\n",
              "      <td>7</td>\n",
              "      <td>2</td>\n",
              "      <td>Medium</td>\n",
              "      <td>Depression</td>\n",
              "      <td>No</td>\n",
              "      <td>Decrease</td>\n",
              "      <td>1</td>\n",
              "      <td>Unsatisfied</td>\n",
              "      <td>1</td>\n",
              "      <td>Weekly</td>\n",
              "      <td>Good</td>\n",
              "      <td>Europe</td>\n",
              "    </tr>\n",
              "    <tr>\n",
              "      <th>1</th>\n",
              "      <td>EMP0002</td>\n",
              "      <td>40</td>\n",
              "      <td>Female</td>\n",
              "      <td>Data Scientist</td>\n",
              "      <td>IT</td>\n",
              "      <td>3</td>\n",
              "      <td>Remote</td>\n",
              "      <td>52</td>\n",
              "      <td>4</td>\n",
              "      <td>1</td>\n",
              "      <td>Medium</td>\n",
              "      <td>Anxiety</td>\n",
              "      <td>No</td>\n",
              "      <td>Increase</td>\n",
              "      <td>3</td>\n",
              "      <td>Satisfied</td>\n",
              "      <td>2</td>\n",
              "      <td>Weekly</td>\n",
              "      <td>Good</td>\n",
              "      <td>Asia</td>\n",
              "    </tr>\n",
              "    <tr>\n",
              "      <th>2</th>\n",
              "      <td>EMP0003</td>\n",
              "      <td>59</td>\n",
              "      <td>Non-binary</td>\n",
              "      <td>Software Engineer</td>\n",
              "      <td>Education</td>\n",
              "      <td>22</td>\n",
              "      <td>Hybrid</td>\n",
              "      <td>46</td>\n",
              "      <td>11</td>\n",
              "      <td>5</td>\n",
              "      <td>Medium</td>\n",
              "      <td>Anxiety</td>\n",
              "      <td>No</td>\n",
              "      <td>No Change</td>\n",
              "      <td>4</td>\n",
              "      <td>Unsatisfied</td>\n",
              "      <td>5</td>\n",
              "      <td>NaN</td>\n",
              "      <td>Poor</td>\n",
              "      <td>North America</td>\n",
              "    </tr>\n",
              "    <tr>\n",
              "      <th>3</th>\n",
              "      <td>EMP0004</td>\n",
              "      <td>27</td>\n",
              "      <td>Male</td>\n",
              "      <td>Software Engineer</td>\n",
              "      <td>Finance</td>\n",
              "      <td>20</td>\n",
              "      <td>Onsite</td>\n",
              "      <td>32</td>\n",
              "      <td>8</td>\n",
              "      <td>4</td>\n",
              "      <td>High</td>\n",
              "      <td>Depression</td>\n",
              "      <td>Yes</td>\n",
              "      <td>Increase</td>\n",
              "      <td>3</td>\n",
              "      <td>Unsatisfied</td>\n",
              "      <td>3</td>\n",
              "      <td>NaN</td>\n",
              "      <td>Poor</td>\n",
              "      <td>Europe</td>\n",
              "    </tr>\n",
              "    <tr>\n",
              "      <th>4</th>\n",
              "      <td>EMP0005</td>\n",
              "      <td>49</td>\n",
              "      <td>Male</td>\n",
              "      <td>Sales</td>\n",
              "      <td>Consulting</td>\n",
              "      <td>32</td>\n",
              "      <td>Onsite</td>\n",
              "      <td>35</td>\n",
              "      <td>12</td>\n",
              "      <td>2</td>\n",
              "      <td>High</td>\n",
              "      <td>NaN</td>\n",
              "      <td>Yes</td>\n",
              "      <td>Decrease</td>\n",
              "      <td>3</td>\n",
              "      <td>Unsatisfied</td>\n",
              "      <td>3</td>\n",
              "      <td>Weekly</td>\n",
              "      <td>Average</td>\n",
              "      <td>North America</td>\n",
              "    </tr>\n",
              "  </tbody>\n",
              "</table>\n",
              "</div>\n",
              "    <div class=\"colab-df-buttons\">\n",
              "\n",
              "  <div class=\"colab-df-container\">\n",
              "    <button class=\"colab-df-convert\" onclick=\"convertToInteractive('df-aca169cd-9701-4dc8-87d6-f604a7975d47')\"\n",
              "            title=\"Convert this dataframe to an interactive table.\"\n",
              "            style=\"display:none;\">\n",
              "\n",
              "  <svg xmlns=\"http://www.w3.org/2000/svg\" height=\"24px\" viewBox=\"0 -960 960 960\">\n",
              "    <path d=\"M120-120v-720h720v720H120Zm60-500h600v-160H180v160Zm220 220h160v-160H400v160Zm0 220h160v-160H400v160ZM180-400h160v-160H180v160Zm440 0h160v-160H620v160ZM180-180h160v-160H180v160Zm440 0h160v-160H620v160Z\"/>\n",
              "  </svg>\n",
              "    </button>\n",
              "\n",
              "  <style>\n",
              "    .colab-df-container {\n",
              "      display:flex;\n",
              "      gap: 12px;\n",
              "    }\n",
              "\n",
              "    .colab-df-convert {\n",
              "      background-color: #E8F0FE;\n",
              "      border: none;\n",
              "      border-radius: 50%;\n",
              "      cursor: pointer;\n",
              "      display: none;\n",
              "      fill: #1967D2;\n",
              "      height: 32px;\n",
              "      padding: 0 0 0 0;\n",
              "      width: 32px;\n",
              "    }\n",
              "\n",
              "    .colab-df-convert:hover {\n",
              "      background-color: #E2EBFA;\n",
              "      box-shadow: 0px 1px 2px rgba(60, 64, 67, 0.3), 0px 1px 3px 1px rgba(60, 64, 67, 0.15);\n",
              "      fill: #174EA6;\n",
              "    }\n",
              "\n",
              "    .colab-df-buttons div {\n",
              "      margin-bottom: 4px;\n",
              "    }\n",
              "\n",
              "    [theme=dark] .colab-df-convert {\n",
              "      background-color: #3B4455;\n",
              "      fill: #D2E3FC;\n",
              "    }\n",
              "\n",
              "    [theme=dark] .colab-df-convert:hover {\n",
              "      background-color: #434B5C;\n",
              "      box-shadow: 0px 1px 3px 1px rgba(0, 0, 0, 0.15);\n",
              "      filter: drop-shadow(0px 1px 2px rgba(0, 0, 0, 0.3));\n",
              "      fill: #FFFFFF;\n",
              "    }\n",
              "  </style>\n",
              "\n",
              "    <script>\n",
              "      const buttonEl =\n",
              "        document.querySelector('#df-aca169cd-9701-4dc8-87d6-f604a7975d47 button.colab-df-convert');\n",
              "      buttonEl.style.display =\n",
              "        google.colab.kernel.accessAllowed ? 'block' : 'none';\n",
              "\n",
              "      async function convertToInteractive(key) {\n",
              "        const element = document.querySelector('#df-aca169cd-9701-4dc8-87d6-f604a7975d47');\n",
              "        const dataTable =\n",
              "          await google.colab.kernel.invokeFunction('convertToInteractive',\n",
              "                                                    [key], {});\n",
              "        if (!dataTable) return;\n",
              "\n",
              "        const docLinkHtml = 'Like what you see? Visit the ' +\n",
              "          '<a target=\"_blank\" href=https://colab.research.google.com/notebooks/data_table.ipynb>data table notebook</a>'\n",
              "          + ' to learn more about interactive tables.';\n",
              "        element.innerHTML = '';\n",
              "        dataTable['output_type'] = 'display_data';\n",
              "        await google.colab.output.renderOutput(dataTable, element);\n",
              "        const docLink = document.createElement('div');\n",
              "        docLink.innerHTML = docLinkHtml;\n",
              "        element.appendChild(docLink);\n",
              "      }\n",
              "    </script>\n",
              "  </div>\n",
              "\n",
              "\n",
              "    <div id=\"df-9abfc376-c141-47a4-ab34-88ea1a6b6950\">\n",
              "      <button class=\"colab-df-quickchart\" onclick=\"quickchart('df-9abfc376-c141-47a4-ab34-88ea1a6b6950')\"\n",
              "                title=\"Suggest charts\"\n",
              "                style=\"display:none;\">\n",
              "\n",
              "<svg xmlns=\"http://www.w3.org/2000/svg\" height=\"24px\"viewBox=\"0 0 24 24\"\n",
              "     width=\"24px\">\n",
              "    <g>\n",
              "        <path d=\"M19 3H5c-1.1 0-2 .9-2 2v14c0 1.1.9 2 2 2h14c1.1 0 2-.9 2-2V5c0-1.1-.9-2-2-2zM9 17H7v-7h2v7zm4 0h-2V7h2v10zm4 0h-2v-4h2v4z\"/>\n",
              "    </g>\n",
              "</svg>\n",
              "      </button>\n",
              "\n",
              "<style>\n",
              "  .colab-df-quickchart {\n",
              "      --bg-color: #E8F0FE;\n",
              "      --fill-color: #1967D2;\n",
              "      --hover-bg-color: #E2EBFA;\n",
              "      --hover-fill-color: #174EA6;\n",
              "      --disabled-fill-color: #AAA;\n",
              "      --disabled-bg-color: #DDD;\n",
              "  }\n",
              "\n",
              "  [theme=dark] .colab-df-quickchart {\n",
              "      --bg-color: #3B4455;\n",
              "      --fill-color: #D2E3FC;\n",
              "      --hover-bg-color: #434B5C;\n",
              "      --hover-fill-color: #FFFFFF;\n",
              "      --disabled-bg-color: #3B4455;\n",
              "      --disabled-fill-color: #666;\n",
              "  }\n",
              "\n",
              "  .colab-df-quickchart {\n",
              "    background-color: var(--bg-color);\n",
              "    border: none;\n",
              "    border-radius: 50%;\n",
              "    cursor: pointer;\n",
              "    display: none;\n",
              "    fill: var(--fill-color);\n",
              "    height: 32px;\n",
              "    padding: 0;\n",
              "    width: 32px;\n",
              "  }\n",
              "\n",
              "  .colab-df-quickchart:hover {\n",
              "    background-color: var(--hover-bg-color);\n",
              "    box-shadow: 0 1px 2px rgba(60, 64, 67, 0.3), 0 1px 3px 1px rgba(60, 64, 67, 0.15);\n",
              "    fill: var(--button-hover-fill-color);\n",
              "  }\n",
              "\n",
              "  .colab-df-quickchart-complete:disabled,\n",
              "  .colab-df-quickchart-complete:disabled:hover {\n",
              "    background-color: var(--disabled-bg-color);\n",
              "    fill: var(--disabled-fill-color);\n",
              "    box-shadow: none;\n",
              "  }\n",
              "\n",
              "  .colab-df-spinner {\n",
              "    border: 2px solid var(--fill-color);\n",
              "    border-color: transparent;\n",
              "    border-bottom-color: var(--fill-color);\n",
              "    animation:\n",
              "      spin 1s steps(1) infinite;\n",
              "  }\n",
              "\n",
              "  @keyframes spin {\n",
              "    0% {\n",
              "      border-color: transparent;\n",
              "      border-bottom-color: var(--fill-color);\n",
              "      border-left-color: var(--fill-color);\n",
              "    }\n",
              "    20% {\n",
              "      border-color: transparent;\n",
              "      border-left-color: var(--fill-color);\n",
              "      border-top-color: var(--fill-color);\n",
              "    }\n",
              "    30% {\n",
              "      border-color: transparent;\n",
              "      border-left-color: var(--fill-color);\n",
              "      border-top-color: var(--fill-color);\n",
              "      border-right-color: var(--fill-color);\n",
              "    }\n",
              "    40% {\n",
              "      border-color: transparent;\n",
              "      border-right-color: var(--fill-color);\n",
              "      border-top-color: var(--fill-color);\n",
              "    }\n",
              "    60% {\n",
              "      border-color: transparent;\n",
              "      border-right-color: var(--fill-color);\n",
              "    }\n",
              "    80% {\n",
              "      border-color: transparent;\n",
              "      border-right-color: var(--fill-color);\n",
              "      border-bottom-color: var(--fill-color);\n",
              "    }\n",
              "    90% {\n",
              "      border-color: transparent;\n",
              "      border-bottom-color: var(--fill-color);\n",
              "    }\n",
              "  }\n",
              "</style>\n",
              "\n",
              "      <script>\n",
              "        async function quickchart(key) {\n",
              "          const quickchartButtonEl =\n",
              "            document.querySelector('#' + key + ' button');\n",
              "          quickchartButtonEl.disabled = true;  // To prevent multiple clicks.\n",
              "          quickchartButtonEl.classList.add('colab-df-spinner');\n",
              "          try {\n",
              "            const charts = await google.colab.kernel.invokeFunction(\n",
              "                'suggestCharts', [key], {});\n",
              "          } catch (error) {\n",
              "            console.error('Error during call to suggestCharts:', error);\n",
              "          }\n",
              "          quickchartButtonEl.classList.remove('colab-df-spinner');\n",
              "          quickchartButtonEl.classList.add('colab-df-quickchart-complete');\n",
              "        }\n",
              "        (() => {\n",
              "          let quickchartButtonEl =\n",
              "            document.querySelector('#df-9abfc376-c141-47a4-ab34-88ea1a6b6950 button');\n",
              "          quickchartButtonEl.style.display =\n",
              "            google.colab.kernel.accessAllowed ? 'block' : 'none';\n",
              "        })();\n",
              "      </script>\n",
              "    </div>\n",
              "\n",
              "    </div>\n",
              "  </div>\n"
            ],
            "application/vnd.google.colaboratory.intrinsic+json": {
              "type": "dataframe",
              "variable_name": "df",
              "summary": "{\n  \"name\": \"df\",\n  \"rows\": 5000,\n  \"fields\": [\n    {\n      \"column\": \"Employee_ID\",\n      \"properties\": {\n        \"dtype\": \"string\",\n        \"num_unique_values\": 5000,\n        \"samples\": [\n          \"EMP1502\",\n          \"EMP2587\",\n          \"EMP2654\"\n        ],\n        \"semantic_type\": \"\",\n        \"description\": \"\"\n      }\n    },\n    {\n      \"column\": \"Age\",\n      \"properties\": {\n        \"dtype\": \"number\",\n        \"std\": 11,\n        \"min\": 22,\n        \"max\": 60,\n        \"num_unique_values\": 39,\n        \"samples\": [\n          55,\n          34,\n          49\n        ],\n        \"semantic_type\": \"\",\n        \"description\": \"\"\n      }\n    },\n    {\n      \"column\": \"Gender\",\n      \"properties\": {\n        \"dtype\": \"category\",\n        \"num_unique_values\": 4,\n        \"samples\": [\n          \"Female\",\n          \"Prefer not to say\",\n          \"Non-binary\"\n        ],\n        \"semantic_type\": \"\",\n        \"description\": \"\"\n      }\n    },\n    {\n      \"column\": \"Job_Role\",\n      \"properties\": {\n        \"dtype\": \"category\",\n        \"num_unique_values\": 7,\n        \"samples\": [\n          \"HR\",\n          \"Data Scientist\",\n          \"Designer\"\n        ],\n        \"semantic_type\": \"\",\n        \"description\": \"\"\n      }\n    },\n    {\n      \"column\": \"Industry\",\n      \"properties\": {\n        \"dtype\": \"category\",\n        \"num_unique_values\": 7,\n        \"samples\": [\n          \"Healthcare\",\n          \"IT\",\n          \"Manufacturing\"\n        ],\n        \"semantic_type\": \"\",\n        \"description\": \"\"\n      }\n    },\n    {\n      \"column\": \"Years_of_Experience\",\n      \"properties\": {\n        \"dtype\": \"number\",\n        \"std\": 10,\n        \"min\": 1,\n        \"max\": 35,\n        \"num_unique_values\": 35,\n        \"samples\": [\n          12,\n          23,\n          14\n        ],\n        \"semantic_type\": \"\",\n        \"description\": \"\"\n      }\n    },\n    {\n      \"column\": \"Work_Location\",\n      \"properties\": {\n        \"dtype\": \"category\",\n        \"num_unique_values\": 3,\n        \"samples\": [\n          \"Hybrid\",\n          \"Remote\",\n          \"Onsite\"\n        ],\n        \"semantic_type\": \"\",\n        \"description\": \"\"\n      }\n    },\n    {\n      \"column\": \"Hours_Worked_Per_Week\",\n      \"properties\": {\n        \"dtype\": \"number\",\n        \"std\": 11,\n        \"min\": 20,\n        \"max\": 60,\n        \"num_unique_values\": 41,\n        \"samples\": [\n          29,\n          45,\n          24\n        ],\n        \"semantic_type\": \"\",\n        \"description\": \"\"\n      }\n    },\n    {\n      \"column\": \"Number_of_Virtual_Meetings\",\n      \"properties\": {\n        \"dtype\": \"number\",\n        \"std\": 4,\n        \"min\": 0,\n        \"max\": 15,\n        \"num_unique_values\": 16,\n        \"samples\": [\n          7,\n          4,\n          3\n        ],\n        \"semantic_type\": \"\",\n        \"description\": \"\"\n      }\n    },\n    {\n      \"column\": \"Work_Life_Balance_Rating\",\n      \"properties\": {\n        \"dtype\": \"number\",\n        \"std\": 1,\n        \"min\": 1,\n        \"max\": 5,\n        \"num_unique_values\": 5,\n        \"samples\": [\n          1,\n          3,\n          5\n        ],\n        \"semantic_type\": \"\",\n        \"description\": \"\"\n      }\n    },\n    {\n      \"column\": \"Stress_Level\",\n      \"properties\": {\n        \"dtype\": \"category\",\n        \"num_unique_values\": 3,\n        \"samples\": [\n          \"Medium\",\n          \"High\",\n          \"Low\"\n        ],\n        \"semantic_type\": \"\",\n        \"description\": \"\"\n      }\n    },\n    {\n      \"column\": \"Mental_Health_Condition\",\n      \"properties\": {\n        \"dtype\": \"category\",\n        \"num_unique_values\": 3,\n        \"samples\": [\n          \"Depression\",\n          \"Anxiety\",\n          \"Burnout\"\n        ],\n        \"semantic_type\": \"\",\n        \"description\": \"\"\n      }\n    },\n    {\n      \"column\": \"Access_to_Mental_Health_Resources\",\n      \"properties\": {\n        \"dtype\": \"category\",\n        \"num_unique_values\": 2,\n        \"samples\": [\n          \"Yes\",\n          \"No\"\n        ],\n        \"semantic_type\": \"\",\n        \"description\": \"\"\n      }\n    },\n    {\n      \"column\": \"Productivity_Change\",\n      \"properties\": {\n        \"dtype\": \"category\",\n        \"num_unique_values\": 3,\n        \"samples\": [\n          \"Decrease\",\n          \"Increase\"\n        ],\n        \"semantic_type\": \"\",\n        \"description\": \"\"\n      }\n    },\n    {\n      \"column\": \"Social_Isolation_Rating\",\n      \"properties\": {\n        \"dtype\": \"number\",\n        \"std\": 1,\n        \"min\": 1,\n        \"max\": 5,\n        \"num_unique_values\": 5,\n        \"samples\": [\n          3,\n          2\n        ],\n        \"semantic_type\": \"\",\n        \"description\": \"\"\n      }\n    },\n    {\n      \"column\": \"Satisfaction_with_Remote_Work\",\n      \"properties\": {\n        \"dtype\": \"category\",\n        \"num_unique_values\": 3,\n        \"samples\": [\n          \"Unsatisfied\",\n          \"Satisfied\"\n        ],\n        \"semantic_type\": \"\",\n        \"description\": \"\"\n      }\n    },\n    {\n      \"column\": \"Company_Support_for_Remote_Work\",\n      \"properties\": {\n        \"dtype\": \"number\",\n        \"std\": 1,\n        \"min\": 1,\n        \"max\": 5,\n        \"num_unique_values\": 5,\n        \"samples\": [\n          2,\n          4\n        ],\n        \"semantic_type\": \"\",\n        \"description\": \"\"\n      }\n    },\n    {\n      \"column\": \"Physical_Activity\",\n      \"properties\": {\n        \"dtype\": \"category\",\n        \"num_unique_values\": 2,\n        \"samples\": [\n          \"Daily\",\n          \"Weekly\"\n        ],\n        \"semantic_type\": \"\",\n        \"description\": \"\"\n      }\n    },\n    {\n      \"column\": \"Sleep_Quality\",\n      \"properties\": {\n        \"dtype\": \"category\",\n        \"num_unique_values\": 3,\n        \"samples\": [\n          \"Good\",\n          \"Poor\"\n        ],\n        \"semantic_type\": \"\",\n        \"description\": \"\"\n      }\n    },\n    {\n      \"column\": \"Region\",\n      \"properties\": {\n        \"dtype\": \"category\",\n        \"num_unique_values\": 6,\n        \"samples\": [\n          \"Europe\",\n          \"Asia\"\n        ],\n        \"semantic_type\": \"\",\n        \"description\": \"\"\n      }\n    }\n  ]\n}"
            }
          },
          "metadata": {},
          "execution_count": 32
        }
      ]
    },
    {
      "cell_type": "code",
      "source": [
        "df.info()"
      ],
      "metadata": {
        "colab": {
          "base_uri": "https://localhost:8080/"
        },
        "id": "tFz0hiNwebOa",
        "outputId": "7c51a3ab-aeec-45f8-9dde-376f622dfdec"
      },
      "execution_count": null,
      "outputs": [
        {
          "output_type": "stream",
          "name": "stdout",
          "text": [
            "<class 'pandas.core.frame.DataFrame'>\n",
            "RangeIndex: 5000 entries, 0 to 4999\n",
            "Data columns (total 20 columns):\n",
            " #   Column                             Non-Null Count  Dtype \n",
            "---  ------                             --------------  ----- \n",
            " 0   Employee_ID                        5000 non-null   object\n",
            " 1   Age                                5000 non-null   int64 \n",
            " 2   Gender                             5000 non-null   object\n",
            " 3   Job_Role                           5000 non-null   object\n",
            " 4   Industry                           5000 non-null   object\n",
            " 5   Years_of_Experience                5000 non-null   int64 \n",
            " 6   Work_Location                      5000 non-null   object\n",
            " 7   Hours_Worked_Per_Week              5000 non-null   int64 \n",
            " 8   Number_of_Virtual_Meetings         5000 non-null   int64 \n",
            " 9   Work_Life_Balance_Rating           5000 non-null   int64 \n",
            " 10  Stress_Level                       5000 non-null   object\n",
            " 11  Mental_Health_Condition            3804 non-null   object\n",
            " 12  Access_to_Mental_Health_Resources  5000 non-null   object\n",
            " 13  Productivity_Change                5000 non-null   object\n",
            " 14  Social_Isolation_Rating            5000 non-null   int64 \n",
            " 15  Satisfaction_with_Remote_Work      5000 non-null   object\n",
            " 16  Company_Support_for_Remote_Work    5000 non-null   int64 \n",
            " 17  Physical_Activity                  3371 non-null   object\n",
            " 18  Sleep_Quality                      5000 non-null   object\n",
            " 19  Region                             5000 non-null   object\n",
            "dtypes: int64(7), object(13)\n",
            "memory usage: 781.4+ KB\n"
          ]
        }
      ]
    },
    {
      "cell_type": "code",
      "source": [
        "df.describe()"
      ],
      "metadata": {
        "colab": {
          "base_uri": "https://localhost:8080/",
          "height": 320
        },
        "id": "7o-1XL0HeAxA",
        "outputId": "84da5a5e-c562-4fd6-bc60-9f4707ababee"
      },
      "execution_count": null,
      "outputs": [
        {
          "output_type": "execute_result",
          "data": {
            "text/plain": [
              "          Age  Years_of_Experience  Hours_Worked_Per_Week  Number_of_Virtual_Meetings  Work_Life_Balance_Rating  Social_Isolation_Rating  Company_Support_for_Remote_Work\n",
              "count 5000.00              5000.00                5000.00                     5000.00                   5000.00                  5000.00                          5000.00\n",
              "mean    40.99                17.81                  39.61                        7.56                      2.98                     2.99                             3.01\n",
              "std     11.30                10.02                  11.86                        4.64                      1.41                     1.39                             1.40\n",
              "min     22.00                 1.00                  20.00                        0.00                      1.00                     1.00                             1.00\n",
              "25%     31.00                 9.00                  29.00                        4.00                      2.00                     2.00                             2.00\n",
              "50%     41.00                18.00                  40.00                        8.00                      3.00                     3.00                             3.00\n",
              "75%     51.00                26.00                  50.00                       12.00                      4.00                     4.00                             4.00\n",
              "max     60.00                35.00                  60.00                       15.00                      5.00                     5.00                             5.00"
            ],
            "text/html": [
              "\n",
              "  <div id=\"df-75eed8c6-a19c-4102-8be6-0e8033479b37\" class=\"colab-df-container\">\n",
              "    <div>\n",
              "<style scoped>\n",
              "    .dataframe tbody tr th:only-of-type {\n",
              "        vertical-align: middle;\n",
              "    }\n",
              "\n",
              "    .dataframe tbody tr th {\n",
              "        vertical-align: top;\n",
              "    }\n",
              "\n",
              "    .dataframe thead th {\n",
              "        text-align: right;\n",
              "    }\n",
              "</style>\n",
              "<table border=\"1\" class=\"dataframe\">\n",
              "  <thead>\n",
              "    <tr style=\"text-align: right;\">\n",
              "      <th></th>\n",
              "      <th>Age</th>\n",
              "      <th>Years_of_Experience</th>\n",
              "      <th>Hours_Worked_Per_Week</th>\n",
              "      <th>Number_of_Virtual_Meetings</th>\n",
              "      <th>Work_Life_Balance_Rating</th>\n",
              "      <th>Social_Isolation_Rating</th>\n",
              "      <th>Company_Support_for_Remote_Work</th>\n",
              "    </tr>\n",
              "  </thead>\n",
              "  <tbody>\n",
              "    <tr>\n",
              "      <th>count</th>\n",
              "      <td>5000.00</td>\n",
              "      <td>5000.00</td>\n",
              "      <td>5000.00</td>\n",
              "      <td>5000.00</td>\n",
              "      <td>5000.00</td>\n",
              "      <td>5000.00</td>\n",
              "      <td>5000.00</td>\n",
              "    </tr>\n",
              "    <tr>\n",
              "      <th>mean</th>\n",
              "      <td>40.99</td>\n",
              "      <td>17.81</td>\n",
              "      <td>39.61</td>\n",
              "      <td>7.56</td>\n",
              "      <td>2.98</td>\n",
              "      <td>2.99</td>\n",
              "      <td>3.01</td>\n",
              "    </tr>\n",
              "    <tr>\n",
              "      <th>std</th>\n",
              "      <td>11.30</td>\n",
              "      <td>10.02</td>\n",
              "      <td>11.86</td>\n",
              "      <td>4.64</td>\n",
              "      <td>1.41</td>\n",
              "      <td>1.39</td>\n",
              "      <td>1.40</td>\n",
              "    </tr>\n",
              "    <tr>\n",
              "      <th>min</th>\n",
              "      <td>22.00</td>\n",
              "      <td>1.00</td>\n",
              "      <td>20.00</td>\n",
              "      <td>0.00</td>\n",
              "      <td>1.00</td>\n",
              "      <td>1.00</td>\n",
              "      <td>1.00</td>\n",
              "    </tr>\n",
              "    <tr>\n",
              "      <th>25%</th>\n",
              "      <td>31.00</td>\n",
              "      <td>9.00</td>\n",
              "      <td>29.00</td>\n",
              "      <td>4.00</td>\n",
              "      <td>2.00</td>\n",
              "      <td>2.00</td>\n",
              "      <td>2.00</td>\n",
              "    </tr>\n",
              "    <tr>\n",
              "      <th>50%</th>\n",
              "      <td>41.00</td>\n",
              "      <td>18.00</td>\n",
              "      <td>40.00</td>\n",
              "      <td>8.00</td>\n",
              "      <td>3.00</td>\n",
              "      <td>3.00</td>\n",
              "      <td>3.00</td>\n",
              "    </tr>\n",
              "    <tr>\n",
              "      <th>75%</th>\n",
              "      <td>51.00</td>\n",
              "      <td>26.00</td>\n",
              "      <td>50.00</td>\n",
              "      <td>12.00</td>\n",
              "      <td>4.00</td>\n",
              "      <td>4.00</td>\n",
              "      <td>4.00</td>\n",
              "    </tr>\n",
              "    <tr>\n",
              "      <th>max</th>\n",
              "      <td>60.00</td>\n",
              "      <td>35.00</td>\n",
              "      <td>60.00</td>\n",
              "      <td>15.00</td>\n",
              "      <td>5.00</td>\n",
              "      <td>5.00</td>\n",
              "      <td>5.00</td>\n",
              "    </tr>\n",
              "  </tbody>\n",
              "</table>\n",
              "</div>\n",
              "    <div class=\"colab-df-buttons\">\n",
              "\n",
              "  <div class=\"colab-df-container\">\n",
              "    <button class=\"colab-df-convert\" onclick=\"convertToInteractive('df-75eed8c6-a19c-4102-8be6-0e8033479b37')\"\n",
              "            title=\"Convert this dataframe to an interactive table.\"\n",
              "            style=\"display:none;\">\n",
              "\n",
              "  <svg xmlns=\"http://www.w3.org/2000/svg\" height=\"24px\" viewBox=\"0 -960 960 960\">\n",
              "    <path d=\"M120-120v-720h720v720H120Zm60-500h600v-160H180v160Zm220 220h160v-160H400v160Zm0 220h160v-160H400v160ZM180-400h160v-160H180v160Zm440 0h160v-160H620v160ZM180-180h160v-160H180v160Zm440 0h160v-160H620v160Z\"/>\n",
              "  </svg>\n",
              "    </button>\n",
              "\n",
              "  <style>\n",
              "    .colab-df-container {\n",
              "      display:flex;\n",
              "      gap: 12px;\n",
              "    }\n",
              "\n",
              "    .colab-df-convert {\n",
              "      background-color: #E8F0FE;\n",
              "      border: none;\n",
              "      border-radius: 50%;\n",
              "      cursor: pointer;\n",
              "      display: none;\n",
              "      fill: #1967D2;\n",
              "      height: 32px;\n",
              "      padding: 0 0 0 0;\n",
              "      width: 32px;\n",
              "    }\n",
              "\n",
              "    .colab-df-convert:hover {\n",
              "      background-color: #E2EBFA;\n",
              "      box-shadow: 0px 1px 2px rgba(60, 64, 67, 0.3), 0px 1px 3px 1px rgba(60, 64, 67, 0.15);\n",
              "      fill: #174EA6;\n",
              "    }\n",
              "\n",
              "    .colab-df-buttons div {\n",
              "      margin-bottom: 4px;\n",
              "    }\n",
              "\n",
              "    [theme=dark] .colab-df-convert {\n",
              "      background-color: #3B4455;\n",
              "      fill: #D2E3FC;\n",
              "    }\n",
              "\n",
              "    [theme=dark] .colab-df-convert:hover {\n",
              "      background-color: #434B5C;\n",
              "      box-shadow: 0px 1px 3px 1px rgba(0, 0, 0, 0.15);\n",
              "      filter: drop-shadow(0px 1px 2px rgba(0, 0, 0, 0.3));\n",
              "      fill: #FFFFFF;\n",
              "    }\n",
              "  </style>\n",
              "\n",
              "    <script>\n",
              "      const buttonEl =\n",
              "        document.querySelector('#df-75eed8c6-a19c-4102-8be6-0e8033479b37 button.colab-df-convert');\n",
              "      buttonEl.style.display =\n",
              "        google.colab.kernel.accessAllowed ? 'block' : 'none';\n",
              "\n",
              "      async function convertToInteractive(key) {\n",
              "        const element = document.querySelector('#df-75eed8c6-a19c-4102-8be6-0e8033479b37');\n",
              "        const dataTable =\n",
              "          await google.colab.kernel.invokeFunction('convertToInteractive',\n",
              "                                                    [key], {});\n",
              "        if (!dataTable) return;\n",
              "\n",
              "        const docLinkHtml = 'Like what you see? Visit the ' +\n",
              "          '<a target=\"_blank\" href=https://colab.research.google.com/notebooks/data_table.ipynb>data table notebook</a>'\n",
              "          + ' to learn more about interactive tables.';\n",
              "        element.innerHTML = '';\n",
              "        dataTable['output_type'] = 'display_data';\n",
              "        await google.colab.output.renderOutput(dataTable, element);\n",
              "        const docLink = document.createElement('div');\n",
              "        docLink.innerHTML = docLinkHtml;\n",
              "        element.appendChild(docLink);\n",
              "      }\n",
              "    </script>\n",
              "  </div>\n",
              "\n",
              "\n",
              "    <div id=\"df-76da1d08-b644-48ec-9097-2eba4d5c4475\">\n",
              "      <button class=\"colab-df-quickchart\" onclick=\"quickchart('df-76da1d08-b644-48ec-9097-2eba4d5c4475')\"\n",
              "                title=\"Suggest charts\"\n",
              "                style=\"display:none;\">\n",
              "\n",
              "<svg xmlns=\"http://www.w3.org/2000/svg\" height=\"24px\"viewBox=\"0 0 24 24\"\n",
              "     width=\"24px\">\n",
              "    <g>\n",
              "        <path d=\"M19 3H5c-1.1 0-2 .9-2 2v14c0 1.1.9 2 2 2h14c1.1 0 2-.9 2-2V5c0-1.1-.9-2-2-2zM9 17H7v-7h2v7zm4 0h-2V7h2v10zm4 0h-2v-4h2v4z\"/>\n",
              "    </g>\n",
              "</svg>\n",
              "      </button>\n",
              "\n",
              "<style>\n",
              "  .colab-df-quickchart {\n",
              "      --bg-color: #E8F0FE;\n",
              "      --fill-color: #1967D2;\n",
              "      --hover-bg-color: #E2EBFA;\n",
              "      --hover-fill-color: #174EA6;\n",
              "      --disabled-fill-color: #AAA;\n",
              "      --disabled-bg-color: #DDD;\n",
              "  }\n",
              "\n",
              "  [theme=dark] .colab-df-quickchart {\n",
              "      --bg-color: #3B4455;\n",
              "      --fill-color: #D2E3FC;\n",
              "      --hover-bg-color: #434B5C;\n",
              "      --hover-fill-color: #FFFFFF;\n",
              "      --disabled-bg-color: #3B4455;\n",
              "      --disabled-fill-color: #666;\n",
              "  }\n",
              "\n",
              "  .colab-df-quickchart {\n",
              "    background-color: var(--bg-color);\n",
              "    border: none;\n",
              "    border-radius: 50%;\n",
              "    cursor: pointer;\n",
              "    display: none;\n",
              "    fill: var(--fill-color);\n",
              "    height: 32px;\n",
              "    padding: 0;\n",
              "    width: 32px;\n",
              "  }\n",
              "\n",
              "  .colab-df-quickchart:hover {\n",
              "    background-color: var(--hover-bg-color);\n",
              "    box-shadow: 0 1px 2px rgba(60, 64, 67, 0.3), 0 1px 3px 1px rgba(60, 64, 67, 0.15);\n",
              "    fill: var(--button-hover-fill-color);\n",
              "  }\n",
              "\n",
              "  .colab-df-quickchart-complete:disabled,\n",
              "  .colab-df-quickchart-complete:disabled:hover {\n",
              "    background-color: var(--disabled-bg-color);\n",
              "    fill: var(--disabled-fill-color);\n",
              "    box-shadow: none;\n",
              "  }\n",
              "\n",
              "  .colab-df-spinner {\n",
              "    border: 2px solid var(--fill-color);\n",
              "    border-color: transparent;\n",
              "    border-bottom-color: var(--fill-color);\n",
              "    animation:\n",
              "      spin 1s steps(1) infinite;\n",
              "  }\n",
              "\n",
              "  @keyframes spin {\n",
              "    0% {\n",
              "      border-color: transparent;\n",
              "      border-bottom-color: var(--fill-color);\n",
              "      border-left-color: var(--fill-color);\n",
              "    }\n",
              "    20% {\n",
              "      border-color: transparent;\n",
              "      border-left-color: var(--fill-color);\n",
              "      border-top-color: var(--fill-color);\n",
              "    }\n",
              "    30% {\n",
              "      border-color: transparent;\n",
              "      border-left-color: var(--fill-color);\n",
              "      border-top-color: var(--fill-color);\n",
              "      border-right-color: var(--fill-color);\n",
              "    }\n",
              "    40% {\n",
              "      border-color: transparent;\n",
              "      border-right-color: var(--fill-color);\n",
              "      border-top-color: var(--fill-color);\n",
              "    }\n",
              "    60% {\n",
              "      border-color: transparent;\n",
              "      border-right-color: var(--fill-color);\n",
              "    }\n",
              "    80% {\n",
              "      border-color: transparent;\n",
              "      border-right-color: var(--fill-color);\n",
              "      border-bottom-color: var(--fill-color);\n",
              "    }\n",
              "    90% {\n",
              "      border-color: transparent;\n",
              "      border-bottom-color: var(--fill-color);\n",
              "    }\n",
              "  }\n",
              "</style>\n",
              "\n",
              "      <script>\n",
              "        async function quickchart(key) {\n",
              "          const quickchartButtonEl =\n",
              "            document.querySelector('#' + key + ' button');\n",
              "          quickchartButtonEl.disabled = true;  // To prevent multiple clicks.\n",
              "          quickchartButtonEl.classList.add('colab-df-spinner');\n",
              "          try {\n",
              "            const charts = await google.colab.kernel.invokeFunction(\n",
              "                'suggestCharts', [key], {});\n",
              "          } catch (error) {\n",
              "            console.error('Error during call to suggestCharts:', error);\n",
              "          }\n",
              "          quickchartButtonEl.classList.remove('colab-df-spinner');\n",
              "          quickchartButtonEl.classList.add('colab-df-quickchart-complete');\n",
              "        }\n",
              "        (() => {\n",
              "          let quickchartButtonEl =\n",
              "            document.querySelector('#df-76da1d08-b644-48ec-9097-2eba4d5c4475 button');\n",
              "          quickchartButtonEl.style.display =\n",
              "            google.colab.kernel.accessAllowed ? 'block' : 'none';\n",
              "        })();\n",
              "      </script>\n",
              "    </div>\n",
              "\n",
              "    </div>\n",
              "  </div>\n"
            ],
            "application/vnd.google.colaboratory.intrinsic+json": {
              "type": "dataframe",
              "summary": "{\n  \"name\": \"df\",\n  \"rows\": 8,\n  \"fields\": [\n    {\n      \"column\": \"Age\",\n      \"properties\": {\n        \"dtype\": \"number\",\n        \"std\": 1754.840105858947,\n        \"min\": 11.296021203016743,\n        \"max\": 5000.0,\n        \"num_unique_values\": 8,\n        \"samples\": [\n          40.995,\n          41.0,\n          5000.0\n        ],\n        \"semantic_type\": \"\",\n        \"description\": \"\"\n      }\n    },\n    {\n      \"column\": \"Years_of_Experience\",\n      \"properties\": {\n        \"dtype\": \"number\",\n        \"std\": 1761.8975230791743,\n        \"min\": 1.0,\n        \"max\": 5000.0,\n        \"num_unique_values\": 8,\n        \"samples\": [\n          17.8102,\n          18.0,\n          5000.0\n        ],\n        \"semantic_type\": \"\",\n        \"description\": \"\"\n      }\n    },\n    {\n      \"column\": \"Hours_Worked_Per_Week\",\n      \"properties\": {\n        \"dtype\": \"number\",\n        \"std\": 1755.1847800788032,\n        \"min\": 11.86019391409502,\n        \"max\": 5000.0,\n        \"num_unique_values\": 8,\n        \"samples\": [\n          39.6146,\n          40.0,\n          5000.0\n        ],\n        \"semantic_type\": \"\",\n        \"description\": \"\"\n      }\n    },\n    {\n      \"column\": \"Number_of_Virtual_Meetings\",\n      \"properties\": {\n        \"dtype\": \"number\",\n        \"std\": 1765.1874086390376,\n        \"min\": 0.0,\n        \"max\": 5000.0,\n        \"num_unique_values\": 8,\n        \"samples\": [\n          7.559,\n          8.0,\n          5000.0\n        ],\n        \"semantic_type\": \"\",\n        \"description\": \"\"\n      }\n    },\n    {\n      \"column\": \"Work_Life_Balance_Rating\",\n      \"properties\": {\n        \"dtype\": \"number\",\n        \"std\": 1766.7878635610937,\n        \"min\": 1.0,\n        \"max\": 5000.0,\n        \"num_unique_values\": 8,\n        \"samples\": [\n          2.9842,\n          3.0,\n          5000.0\n        ],\n        \"semantic_type\": \"\",\n        \"description\": \"\"\n      }\n    },\n    {\n      \"column\": \"Social_Isolation_Rating\",\n      \"properties\": {\n        \"dtype\": \"number\",\n        \"std\": 1766.7881836182314,\n        \"min\": 1.0,\n        \"max\": 5000.0,\n        \"num_unique_values\": 8,\n        \"samples\": [\n          2.9938,\n          3.0,\n          5000.0\n        ],\n        \"semantic_type\": \"\",\n        \"description\": \"\"\n      }\n    },\n    {\n      \"column\": \"Company_Support_for_Remote_Work\",\n      \"properties\": {\n        \"dtype\": \"number\",\n        \"std\": 1766.787252455376,\n        \"min\": 1.0,\n        \"max\": 5000.0,\n        \"num_unique_values\": 8,\n        \"samples\": [\n          3.0078,\n          3.0,\n          5000.0\n        ],\n        \"semantic_type\": \"\",\n        \"description\": \"\"\n      }\n    }\n  ]\n}"
            }
          },
          "metadata": {},
          "execution_count": 34
        }
      ]
    },
    {
      "cell_type": "code",
      "source": [
        "df.describe(include = object)"
      ],
      "metadata": {
        "colab": {
          "base_uri": "https://localhost:8080/",
          "height": 212
        },
        "id": "57iQMpwRfBZ8",
        "outputId": "ad3d3fe2-aefb-449f-8cfd-78899396ab03"
      },
      "execution_count": null,
      "outputs": [
        {
          "output_type": "execute_result",
          "data": {
            "text/plain": [
              "       Employee_ID  Gender         Job_Role Industry Work_Location Stress_Level Mental_Health_Condition Access_to_Mental_Health_Resources Productivity_Change Satisfaction_with_Remote_Work Physical_Activity Sleep_Quality   Region\n",
              "count         5000    5000             5000     5000          5000         5000                    3804                              5000                5000                          5000              3371          5000     5000\n",
              "unique        5000       4                7        7             3            3                       3                                 2                   3                             3                 2             3        6\n",
              "top        EMP5000  Female  Project Manager  Finance        Remote         High                 Burnout                                No            Decrease                   Unsatisfied            Weekly          Good  Oceania\n",
              "freq             1    1274              738      747          1714         1686                    1280                              2553                1737                          1677              1755          1687      867"
            ],
            "text/html": [
              "\n",
              "  <div id=\"df-6b111429-ac02-413b-bf11-f24284fbafe9\" class=\"colab-df-container\">\n",
              "    <div>\n",
              "<style scoped>\n",
              "    .dataframe tbody tr th:only-of-type {\n",
              "        vertical-align: middle;\n",
              "    }\n",
              "\n",
              "    .dataframe tbody tr th {\n",
              "        vertical-align: top;\n",
              "    }\n",
              "\n",
              "    .dataframe thead th {\n",
              "        text-align: right;\n",
              "    }\n",
              "</style>\n",
              "<table border=\"1\" class=\"dataframe\">\n",
              "  <thead>\n",
              "    <tr style=\"text-align: right;\">\n",
              "      <th></th>\n",
              "      <th>Employee_ID</th>\n",
              "      <th>Gender</th>\n",
              "      <th>Job_Role</th>\n",
              "      <th>Industry</th>\n",
              "      <th>Work_Location</th>\n",
              "      <th>Stress_Level</th>\n",
              "      <th>Mental_Health_Condition</th>\n",
              "      <th>Access_to_Mental_Health_Resources</th>\n",
              "      <th>Productivity_Change</th>\n",
              "      <th>Satisfaction_with_Remote_Work</th>\n",
              "      <th>Physical_Activity</th>\n",
              "      <th>Sleep_Quality</th>\n",
              "      <th>Region</th>\n",
              "    </tr>\n",
              "  </thead>\n",
              "  <tbody>\n",
              "    <tr>\n",
              "      <th>count</th>\n",
              "      <td>5000</td>\n",
              "      <td>5000</td>\n",
              "      <td>5000</td>\n",
              "      <td>5000</td>\n",
              "      <td>5000</td>\n",
              "      <td>5000</td>\n",
              "      <td>3804</td>\n",
              "      <td>5000</td>\n",
              "      <td>5000</td>\n",
              "      <td>5000</td>\n",
              "      <td>3371</td>\n",
              "      <td>5000</td>\n",
              "      <td>5000</td>\n",
              "    </tr>\n",
              "    <tr>\n",
              "      <th>unique</th>\n",
              "      <td>5000</td>\n",
              "      <td>4</td>\n",
              "      <td>7</td>\n",
              "      <td>7</td>\n",
              "      <td>3</td>\n",
              "      <td>3</td>\n",
              "      <td>3</td>\n",
              "      <td>2</td>\n",
              "      <td>3</td>\n",
              "      <td>3</td>\n",
              "      <td>2</td>\n",
              "      <td>3</td>\n",
              "      <td>6</td>\n",
              "    </tr>\n",
              "    <tr>\n",
              "      <th>top</th>\n",
              "      <td>EMP5000</td>\n",
              "      <td>Female</td>\n",
              "      <td>Project Manager</td>\n",
              "      <td>Finance</td>\n",
              "      <td>Remote</td>\n",
              "      <td>High</td>\n",
              "      <td>Burnout</td>\n",
              "      <td>No</td>\n",
              "      <td>Decrease</td>\n",
              "      <td>Unsatisfied</td>\n",
              "      <td>Weekly</td>\n",
              "      <td>Good</td>\n",
              "      <td>Oceania</td>\n",
              "    </tr>\n",
              "    <tr>\n",
              "      <th>freq</th>\n",
              "      <td>1</td>\n",
              "      <td>1274</td>\n",
              "      <td>738</td>\n",
              "      <td>747</td>\n",
              "      <td>1714</td>\n",
              "      <td>1686</td>\n",
              "      <td>1280</td>\n",
              "      <td>2553</td>\n",
              "      <td>1737</td>\n",
              "      <td>1677</td>\n",
              "      <td>1755</td>\n",
              "      <td>1687</td>\n",
              "      <td>867</td>\n",
              "    </tr>\n",
              "  </tbody>\n",
              "</table>\n",
              "</div>\n",
              "    <div class=\"colab-df-buttons\">\n",
              "\n",
              "  <div class=\"colab-df-container\">\n",
              "    <button class=\"colab-df-convert\" onclick=\"convertToInteractive('df-6b111429-ac02-413b-bf11-f24284fbafe9')\"\n",
              "            title=\"Convert this dataframe to an interactive table.\"\n",
              "            style=\"display:none;\">\n",
              "\n",
              "  <svg xmlns=\"http://www.w3.org/2000/svg\" height=\"24px\" viewBox=\"0 -960 960 960\">\n",
              "    <path d=\"M120-120v-720h720v720H120Zm60-500h600v-160H180v160Zm220 220h160v-160H400v160Zm0 220h160v-160H400v160ZM180-400h160v-160H180v160Zm440 0h160v-160H620v160ZM180-180h160v-160H180v160Zm440 0h160v-160H620v160Z\"/>\n",
              "  </svg>\n",
              "    </button>\n",
              "\n",
              "  <style>\n",
              "    .colab-df-container {\n",
              "      display:flex;\n",
              "      gap: 12px;\n",
              "    }\n",
              "\n",
              "    .colab-df-convert {\n",
              "      background-color: #E8F0FE;\n",
              "      border: none;\n",
              "      border-radius: 50%;\n",
              "      cursor: pointer;\n",
              "      display: none;\n",
              "      fill: #1967D2;\n",
              "      height: 32px;\n",
              "      padding: 0 0 0 0;\n",
              "      width: 32px;\n",
              "    }\n",
              "\n",
              "    .colab-df-convert:hover {\n",
              "      background-color: #E2EBFA;\n",
              "      box-shadow: 0px 1px 2px rgba(60, 64, 67, 0.3), 0px 1px 3px 1px rgba(60, 64, 67, 0.15);\n",
              "      fill: #174EA6;\n",
              "    }\n",
              "\n",
              "    .colab-df-buttons div {\n",
              "      margin-bottom: 4px;\n",
              "    }\n",
              "\n",
              "    [theme=dark] .colab-df-convert {\n",
              "      background-color: #3B4455;\n",
              "      fill: #D2E3FC;\n",
              "    }\n",
              "\n",
              "    [theme=dark] .colab-df-convert:hover {\n",
              "      background-color: #434B5C;\n",
              "      box-shadow: 0px 1px 3px 1px rgba(0, 0, 0, 0.15);\n",
              "      filter: drop-shadow(0px 1px 2px rgba(0, 0, 0, 0.3));\n",
              "      fill: #FFFFFF;\n",
              "    }\n",
              "  </style>\n",
              "\n",
              "    <script>\n",
              "      const buttonEl =\n",
              "        document.querySelector('#df-6b111429-ac02-413b-bf11-f24284fbafe9 button.colab-df-convert');\n",
              "      buttonEl.style.display =\n",
              "        google.colab.kernel.accessAllowed ? 'block' : 'none';\n",
              "\n",
              "      async function convertToInteractive(key) {\n",
              "        const element = document.querySelector('#df-6b111429-ac02-413b-bf11-f24284fbafe9');\n",
              "        const dataTable =\n",
              "          await google.colab.kernel.invokeFunction('convertToInteractive',\n",
              "                                                    [key], {});\n",
              "        if (!dataTable) return;\n",
              "\n",
              "        const docLinkHtml = 'Like what you see? Visit the ' +\n",
              "          '<a target=\"_blank\" href=https://colab.research.google.com/notebooks/data_table.ipynb>data table notebook</a>'\n",
              "          + ' to learn more about interactive tables.';\n",
              "        element.innerHTML = '';\n",
              "        dataTable['output_type'] = 'display_data';\n",
              "        await google.colab.output.renderOutput(dataTable, element);\n",
              "        const docLink = document.createElement('div');\n",
              "        docLink.innerHTML = docLinkHtml;\n",
              "        element.appendChild(docLink);\n",
              "      }\n",
              "    </script>\n",
              "  </div>\n",
              "\n",
              "\n",
              "    <div id=\"df-5487f207-fb22-4da4-81fd-b5a479bff7c7\">\n",
              "      <button class=\"colab-df-quickchart\" onclick=\"quickchart('df-5487f207-fb22-4da4-81fd-b5a479bff7c7')\"\n",
              "                title=\"Suggest charts\"\n",
              "                style=\"display:none;\">\n",
              "\n",
              "<svg xmlns=\"http://www.w3.org/2000/svg\" height=\"24px\"viewBox=\"0 0 24 24\"\n",
              "     width=\"24px\">\n",
              "    <g>\n",
              "        <path d=\"M19 3H5c-1.1 0-2 .9-2 2v14c0 1.1.9 2 2 2h14c1.1 0 2-.9 2-2V5c0-1.1-.9-2-2-2zM9 17H7v-7h2v7zm4 0h-2V7h2v10zm4 0h-2v-4h2v4z\"/>\n",
              "    </g>\n",
              "</svg>\n",
              "      </button>\n",
              "\n",
              "<style>\n",
              "  .colab-df-quickchart {\n",
              "      --bg-color: #E8F0FE;\n",
              "      --fill-color: #1967D2;\n",
              "      --hover-bg-color: #E2EBFA;\n",
              "      --hover-fill-color: #174EA6;\n",
              "      --disabled-fill-color: #AAA;\n",
              "      --disabled-bg-color: #DDD;\n",
              "  }\n",
              "\n",
              "  [theme=dark] .colab-df-quickchart {\n",
              "      --bg-color: #3B4455;\n",
              "      --fill-color: #D2E3FC;\n",
              "      --hover-bg-color: #434B5C;\n",
              "      --hover-fill-color: #FFFFFF;\n",
              "      --disabled-bg-color: #3B4455;\n",
              "      --disabled-fill-color: #666;\n",
              "  }\n",
              "\n",
              "  .colab-df-quickchart {\n",
              "    background-color: var(--bg-color);\n",
              "    border: none;\n",
              "    border-radius: 50%;\n",
              "    cursor: pointer;\n",
              "    display: none;\n",
              "    fill: var(--fill-color);\n",
              "    height: 32px;\n",
              "    padding: 0;\n",
              "    width: 32px;\n",
              "  }\n",
              "\n",
              "  .colab-df-quickchart:hover {\n",
              "    background-color: var(--hover-bg-color);\n",
              "    box-shadow: 0 1px 2px rgba(60, 64, 67, 0.3), 0 1px 3px 1px rgba(60, 64, 67, 0.15);\n",
              "    fill: var(--button-hover-fill-color);\n",
              "  }\n",
              "\n",
              "  .colab-df-quickchart-complete:disabled,\n",
              "  .colab-df-quickchart-complete:disabled:hover {\n",
              "    background-color: var(--disabled-bg-color);\n",
              "    fill: var(--disabled-fill-color);\n",
              "    box-shadow: none;\n",
              "  }\n",
              "\n",
              "  .colab-df-spinner {\n",
              "    border: 2px solid var(--fill-color);\n",
              "    border-color: transparent;\n",
              "    border-bottom-color: var(--fill-color);\n",
              "    animation:\n",
              "      spin 1s steps(1) infinite;\n",
              "  }\n",
              "\n",
              "  @keyframes spin {\n",
              "    0% {\n",
              "      border-color: transparent;\n",
              "      border-bottom-color: var(--fill-color);\n",
              "      border-left-color: var(--fill-color);\n",
              "    }\n",
              "    20% {\n",
              "      border-color: transparent;\n",
              "      border-left-color: var(--fill-color);\n",
              "      border-top-color: var(--fill-color);\n",
              "    }\n",
              "    30% {\n",
              "      border-color: transparent;\n",
              "      border-left-color: var(--fill-color);\n",
              "      border-top-color: var(--fill-color);\n",
              "      border-right-color: var(--fill-color);\n",
              "    }\n",
              "    40% {\n",
              "      border-color: transparent;\n",
              "      border-right-color: var(--fill-color);\n",
              "      border-top-color: var(--fill-color);\n",
              "    }\n",
              "    60% {\n",
              "      border-color: transparent;\n",
              "      border-right-color: var(--fill-color);\n",
              "    }\n",
              "    80% {\n",
              "      border-color: transparent;\n",
              "      border-right-color: var(--fill-color);\n",
              "      border-bottom-color: var(--fill-color);\n",
              "    }\n",
              "    90% {\n",
              "      border-color: transparent;\n",
              "      border-bottom-color: var(--fill-color);\n",
              "    }\n",
              "  }\n",
              "</style>\n",
              "\n",
              "      <script>\n",
              "        async function quickchart(key) {\n",
              "          const quickchartButtonEl =\n",
              "            document.querySelector('#' + key + ' button');\n",
              "          quickchartButtonEl.disabled = true;  // To prevent multiple clicks.\n",
              "          quickchartButtonEl.classList.add('colab-df-spinner');\n",
              "          try {\n",
              "            const charts = await google.colab.kernel.invokeFunction(\n",
              "                'suggestCharts', [key], {});\n",
              "          } catch (error) {\n",
              "            console.error('Error during call to suggestCharts:', error);\n",
              "          }\n",
              "          quickchartButtonEl.classList.remove('colab-df-spinner');\n",
              "          quickchartButtonEl.classList.add('colab-df-quickchart-complete');\n",
              "        }\n",
              "        (() => {\n",
              "          let quickchartButtonEl =\n",
              "            document.querySelector('#df-5487f207-fb22-4da4-81fd-b5a479bff7c7 button');\n",
              "          quickchartButtonEl.style.display =\n",
              "            google.colab.kernel.accessAllowed ? 'block' : 'none';\n",
              "        })();\n",
              "      </script>\n",
              "    </div>\n",
              "\n",
              "    </div>\n",
              "  </div>\n"
            ],
            "application/vnd.google.colaboratory.intrinsic+json": {
              "type": "dataframe",
              "summary": "{\n  \"name\": \"df\",\n  \"rows\": 4,\n  \"fields\": [\n    {\n      \"column\": \"Employee_ID\",\n      \"properties\": {\n        \"dtype\": \"string\",\n        \"num_unique_values\": 3,\n        \"samples\": [\n          \"5000\",\n          \"EMP5000\",\n          \"1\"\n        ],\n        \"semantic_type\": \"\",\n        \"description\": \"\"\n      }\n    },\n    {\n      \"column\": \"Gender\",\n      \"properties\": {\n        \"dtype\": \"string\",\n        \"num_unique_values\": 4,\n        \"samples\": [\n          4,\n          \"1274\",\n          \"5000\"\n        ],\n        \"semantic_type\": \"\",\n        \"description\": \"\"\n      }\n    },\n    {\n      \"column\": \"Job_Role\",\n      \"properties\": {\n        \"dtype\": \"string\",\n        \"num_unique_values\": 4,\n        \"samples\": [\n          7,\n          \"738\",\n          \"5000\"\n        ],\n        \"semantic_type\": \"\",\n        \"description\": \"\"\n      }\n    },\n    {\n      \"column\": \"Industry\",\n      \"properties\": {\n        \"dtype\": \"string\",\n        \"num_unique_values\": 4,\n        \"samples\": [\n          7,\n          \"747\",\n          \"5000\"\n        ],\n        \"semantic_type\": \"\",\n        \"description\": \"\"\n      }\n    },\n    {\n      \"column\": \"Work_Location\",\n      \"properties\": {\n        \"dtype\": \"string\",\n        \"num_unique_values\": 4,\n        \"samples\": [\n          3,\n          \"1714\",\n          \"5000\"\n        ],\n        \"semantic_type\": \"\",\n        \"description\": \"\"\n      }\n    },\n    {\n      \"column\": \"Stress_Level\",\n      \"properties\": {\n        \"dtype\": \"string\",\n        \"num_unique_values\": 4,\n        \"samples\": [\n          3,\n          \"1686\",\n          \"5000\"\n        ],\n        \"semantic_type\": \"\",\n        \"description\": \"\"\n      }\n    },\n    {\n      \"column\": \"Mental_Health_Condition\",\n      \"properties\": {\n        \"dtype\": \"string\",\n        \"num_unique_values\": 4,\n        \"samples\": [\n          3,\n          \"1280\",\n          \"3804\"\n        ],\n        \"semantic_type\": \"\",\n        \"description\": \"\"\n      }\n    },\n    {\n      \"column\": \"Access_to_Mental_Health_Resources\",\n      \"properties\": {\n        \"dtype\": \"string\",\n        \"num_unique_values\": 4,\n        \"samples\": [\n          2,\n          \"2553\",\n          \"5000\"\n        ],\n        \"semantic_type\": \"\",\n        \"description\": \"\"\n      }\n    },\n    {\n      \"column\": \"Productivity_Change\",\n      \"properties\": {\n        \"dtype\": \"string\",\n        \"num_unique_values\": 4,\n        \"samples\": [\n          3,\n          \"1737\",\n          \"5000\"\n        ],\n        \"semantic_type\": \"\",\n        \"description\": \"\"\n      }\n    },\n    {\n      \"column\": \"Satisfaction_with_Remote_Work\",\n      \"properties\": {\n        \"dtype\": \"string\",\n        \"num_unique_values\": 4,\n        \"samples\": [\n          3,\n          \"1677\",\n          \"5000\"\n        ],\n        \"semantic_type\": \"\",\n        \"description\": \"\"\n      }\n    },\n    {\n      \"column\": \"Physical_Activity\",\n      \"properties\": {\n        \"dtype\": \"string\",\n        \"num_unique_values\": 4,\n        \"samples\": [\n          2,\n          \"1755\",\n          \"3371\"\n        ],\n        \"semantic_type\": \"\",\n        \"description\": \"\"\n      }\n    },\n    {\n      \"column\": \"Sleep_Quality\",\n      \"properties\": {\n        \"dtype\": \"string\",\n        \"num_unique_values\": 4,\n        \"samples\": [\n          3,\n          \"1687\",\n          \"5000\"\n        ],\n        \"semantic_type\": \"\",\n        \"description\": \"\"\n      }\n    },\n    {\n      \"column\": \"Region\",\n      \"properties\": {\n        \"dtype\": \"string\",\n        \"num_unique_values\": 4,\n        \"samples\": [\n          6,\n          \"867\",\n          \"5000\"\n        ],\n        \"semantic_type\": \"\",\n        \"description\": \"\"\n      }\n    }\n  ]\n}"
            }
          },
          "metadata": {},
          "execution_count": 35
        }
      ]
    },
    {
      "cell_type": "code",
      "source": [
        "missing_values = df.isnull().sum()\n",
        "print(missing_values)"
      ],
      "metadata": {
        "colab": {
          "base_uri": "https://localhost:8080/"
        },
        "id": "FiZSXt3tfZnM",
        "outputId": "1ff08041-46c6-4822-9713-d41ec3378feb"
      },
      "execution_count": null,
      "outputs": [
        {
          "output_type": "stream",
          "name": "stdout",
          "text": [
            "Employee_ID                             0\n",
            "Age                                     0\n",
            "Gender                                  0\n",
            "Job_Role                                0\n",
            "Industry                                0\n",
            "Years_of_Experience                     0\n",
            "Work_Location                           0\n",
            "Hours_Worked_Per_Week                   0\n",
            "Number_of_Virtual_Meetings              0\n",
            "Work_Life_Balance_Rating                0\n",
            "Stress_Level                            0\n",
            "Mental_Health_Condition              1196\n",
            "Access_to_Mental_Health_Resources       0\n",
            "Productivity_Change                     0\n",
            "Social_Isolation_Rating                 0\n",
            "Satisfaction_with_Remote_Work           0\n",
            "Company_Support_for_Remote_Work         0\n",
            "Physical_Activity                    1629\n",
            "Sleep_Quality                           0\n",
            "Region                                  0\n",
            "dtype: int64\n"
          ]
        }
      ]
    },
    {
      "cell_type": "code",
      "source": [
        "duplicate_count = df.duplicated().sum()\n",
        "print(f\"\\nJumlah baris duplikat: {duplicate_count}\")"
      ],
      "metadata": {
        "colab": {
          "base_uri": "https://localhost:8080/"
        },
        "id": "pVZk2jZgfcrw",
        "outputId": "b85f9f8f-420c-4fa7-9261-abcc99b9488a"
      },
      "execution_count": null,
      "outputs": [
        {
          "output_type": "stream",
          "name": "stdout",
          "text": [
            "\n",
            "Jumlah baris duplikat: 0\n"
          ]
        }
      ]
    },
    {
      "cell_type": "markdown",
      "source": [
        "## Data Cleaning"
      ],
      "metadata": {
        "id": "C8jWX-woC_54"
      }
    },
    {
      "cell_type": "code",
      "source": [
        "if duplicate_count > 0:\n",
        "    df = df.drop_duplicates()\n",
        "    print(\"Baris duplikat telah dihapus.\")\n",
        "else:\n",
        "    print(\"Tidak ada baris duplikat.\")"
      ],
      "metadata": {
        "colab": {
          "base_uri": "https://localhost:8080/"
        },
        "id": "sBcUbcrFgNE7",
        "outputId": "12684dab-5828-46d9-a93c-ce7384aaf8d9"
      },
      "execution_count": null,
      "outputs": [
        {
          "output_type": "stream",
          "name": "stdout",
          "text": [
            "Tidak ada baris duplikat.\n"
          ]
        }
      ]
    },
    {
      "cell_type": "code",
      "source": [
        "# percentage version\n",
        "total_rows = len(df)\n",
        "\n",
        "# Menghitung dan menampilkan persentase missing values di setiap kolom satu per satu\n",
        "for column in df.columns:\n",
        "    missing_count = df[column].isna().sum()\n",
        "    missing_percentage = (missing_count / total_rows) * 100\n",
        "    print(f\"Column '{column}' Has {missing_count} missing values ({missing_percentage:.2f}%)\") # .2f means 2 decimal"
      ],
      "metadata": {
        "colab": {
          "base_uri": "https://localhost:8080/"
        },
        "id": "LvS-dvHsrFIM",
        "outputId": "bb84f81c-2df7-4068-d1ce-bae451ead674"
      },
      "execution_count": null,
      "outputs": [
        {
          "output_type": "stream",
          "name": "stdout",
          "text": [
            "Column 'Employee_ID' Has 0 missing values (0.00%)\n",
            "Column 'Age' Has 0 missing values (0.00%)\n",
            "Column 'Gender' Has 0 missing values (0.00%)\n",
            "Column 'Job_Role' Has 0 missing values (0.00%)\n",
            "Column 'Industry' Has 0 missing values (0.00%)\n",
            "Column 'Years_of_Experience' Has 0 missing values (0.00%)\n",
            "Column 'Work_Location' Has 0 missing values (0.00%)\n",
            "Column 'Hours_Worked_Per_Week' Has 0 missing values (0.00%)\n",
            "Column 'Number_of_Virtual_Meetings' Has 0 missing values (0.00%)\n",
            "Column 'Work_Life_Balance_Rating' Has 0 missing values (0.00%)\n",
            "Column 'Stress_Level' Has 0 missing values (0.00%)\n",
            "Column 'Mental_Health_Condition' Has 1196 missing values (23.92%)\n",
            "Column 'Access_to_Mental_Health_Resources' Has 0 missing values (0.00%)\n",
            "Column 'Productivity_Change' Has 0 missing values (0.00%)\n",
            "Column 'Social_Isolation_Rating' Has 0 missing values (0.00%)\n",
            "Column 'Satisfaction_with_Remote_Work' Has 0 missing values (0.00%)\n",
            "Column 'Company_Support_for_Remote_Work' Has 0 missing values (0.00%)\n",
            "Column 'Physical_Activity' Has 1629 missing values (32.58%)\n",
            "Column 'Sleep_Quality' Has 0 missing values (0.00%)\n",
            "Column 'Region' Has 0 missing values (0.00%)\n"
          ]
        }
      ]
    },
    {
      "cell_type": "code",
      "source": [
        "# Handle Missing Vakue (jika ada)\n",
        "if df.isnull().sum().sum() > 0:\n",
        "    print(\"\\nMenangani nilai yang hilang...\")\n",
        "\n",
        "    # Untuk kolom numerik, isi dengan nilai median\n",
        "    numeric_cols = df.select_dtypes(include=['int64', 'float64']).columns\n",
        "    for col in numeric_cols:\n",
        "        if df[col].isnull().sum() > 0:\n",
        "            median_value = df[col].median()\n",
        "            df[col] = df[col].fillna(median_value)\n",
        "            print(f\"Mengisi nilai yang hilang pada kolom '{col}' dengan nilai median: {median_value:.2f}\")\n",
        "\n",
        "    # Untuk kolom kategorikal, isi dengan nilai yang paling sering muncul (mode)\n",
        "    categorical_cols = df.select_dtypes(include=['object']).columns\n",
        "    for col in categorical_cols:\n",
        "        if df[col].isnull().sum() > 0:\n",
        "            mode_value = df[col].mode()[0]\n",
        "            df[col] = df[col].fillna(mode_value)\n",
        "            print(f\"Mengisi nilai yang hilang pada kolom '{col}' dengan nilai mode: {mode_value}\")\n",
        "else:\n",
        "    print(\"\\nTidak ada nilai yang hilang pada dataset.\")"
      ],
      "metadata": {
        "colab": {
          "base_uri": "https://localhost:8080/"
        },
        "id": "5YBSj9Sfe2dD",
        "outputId": "173a9aa0-e990-44fa-c3c8-2d43f0efb939"
      },
      "execution_count": null,
      "outputs": [
        {
          "output_type": "stream",
          "name": "stdout",
          "text": [
            "\n",
            "Menangani nilai yang hilang...\n",
            "Mengisi nilai yang hilang pada kolom 'Mental_Health_Condition' dengan nilai mode: Burnout\n",
            "Mengisi nilai yang hilang pada kolom 'Physical_Activity' dengan nilai mode: Weekly\n"
          ]
        }
      ]
    },
    {
      "cell_type": "code",
      "source": [
        "missing_values = df.isnull().sum()\n",
        "print(missing_values)"
      ],
      "metadata": {
        "colab": {
          "base_uri": "https://localhost:8080/"
        },
        "id": "q25cVj-Mrusn",
        "outputId": "d178a316-b296-4dac-f524-6e1e06961399"
      },
      "execution_count": null,
      "outputs": [
        {
          "output_type": "stream",
          "name": "stdout",
          "text": [
            "Employee_ID                          0\n",
            "Age                                  0\n",
            "Gender                               0\n",
            "Job_Role                             0\n",
            "Industry                             0\n",
            "Years_of_Experience                  0\n",
            "Work_Location                        0\n",
            "Hours_Worked_Per_Week                0\n",
            "Number_of_Virtual_Meetings           0\n",
            "Work_Life_Balance_Rating             0\n",
            "Stress_Level                         0\n",
            "Mental_Health_Condition              0\n",
            "Access_to_Mental_Health_Resources    0\n",
            "Productivity_Change                  0\n",
            "Social_Isolation_Rating              0\n",
            "Satisfaction_with_Remote_Work        0\n",
            "Company_Support_for_Remote_Work      0\n",
            "Physical_Activity                    0\n",
            "Sleep_Quality                        0\n",
            "Region                               0\n",
            "dtype: int64\n"
          ]
        }
      ]
    },
    {
      "cell_type": "code",
      "source": [
        "for col in numeric_cols:\n",
        "    # Menghitung Q1 (kuartil pertama) dan Q3 (kuartil ketiga)\n",
        "    Q1 = df[col].quantile(0.25)\n",
        "    Q3 = df[col].quantile(0.75)\n",
        "\n",
        "    # Menghitung IQR (Interquartile Range)\n",
        "    IQR = Q3 - Q1\n",
        "\n",
        "    # Menentukan batas bawah dan batas atas untuk outlier\n",
        "    lower_bound = Q1 - 1.5 * IQR\n",
        "    upper_bound = Q3 + 1.5 * IQR\n",
        "\n",
        "    # Menghitung jumlah outlier\n",
        "    outliers = df[(df[col] < lower_bound) | (df[col] > upper_bound)][col].count()\n",
        "\n",
        "    # Menampilkan hasil\n",
        "    if outliers > 0:\n",
        "        print(f\"- {col}: {outliers} outlier (nilai < {lower_bound:.2f} atau > {upper_bound:.2f})\")\n",
        "    else:\n",
        "        print(f\"- {col}: Tidak ada outlier\")\n",
        "\n",
        "    # Catatan: Dalam analisis data sederhana, kita hanya mengidentifikasi outlier,\n",
        "    # tanpa menghapus atau mengubahnya karena bisa jadi itu adalah data yang valid."
      ],
      "metadata": {
        "colab": {
          "base_uri": "https://localhost:8080/"
        },
        "id": "3-UdMLM_eBaB",
        "outputId": "2521fd5d-7127-488d-add7-00bb3e13b579"
      },
      "execution_count": null,
      "outputs": [
        {
          "output_type": "stream",
          "name": "stdout",
          "text": [
            "- Age: Tidak ada outlier\n",
            "- Years_of_Experience: Tidak ada outlier\n",
            "- Hours_Worked_Per_Week: Tidak ada outlier\n",
            "- Number_of_Virtual_Meetings: Tidak ada outlier\n",
            "- Work_Life_Balance_Rating: Tidak ada outlier\n",
            "- Social_Isolation_Rating: Tidak ada outlier\n",
            "- Company_Support_for_Remote_Work: Tidak ada outlier\n"
          ]
        }
      ]
    },
    {
      "cell_type": "code",
      "source": [
        "numeric_cols = df.select_dtypes(include=['int64', 'float64']).columns.tolist()\n",
        "numeric_cols"
      ],
      "metadata": {
        "colab": {
          "base_uri": "https://localhost:8080/"
        },
        "id": "xwUN4sdLeVH4",
        "outputId": "6457846e-a89f-4539-bd32-7978bed2c83e"
      },
      "execution_count": null,
      "outputs": [
        {
          "output_type": "execute_result",
          "data": {
            "text/plain": [
              "['Age',\n",
              " 'Years_of_Experience',\n",
              " 'Hours_Worked_Per_Week',\n",
              " 'Number_of_Virtual_Meetings',\n",
              " 'Work_Life_Balance_Rating',\n",
              " 'Social_Isolation_Rating',\n",
              " 'Company_Support_for_Remote_Work']"
            ]
          },
          "metadata": {},
          "execution_count": 43
        }
      ]
    },
    {
      "cell_type": "code",
      "source": [
        "categorical_cols = df.select_dtypes(include=['object']).columns.tolist()\n",
        "categorical_cols"
      ],
      "metadata": {
        "colab": {
          "base_uri": "https://localhost:8080/"
        },
        "id": "qFebSdHmeWtc",
        "outputId": "15149db3-386f-40da-8d10-882f6ff1049f"
      },
      "execution_count": null,
      "outputs": [
        {
          "output_type": "execute_result",
          "data": {
            "text/plain": [
              "['Employee_ID',\n",
              " 'Gender',\n",
              " 'Job_Role',\n",
              " 'Industry',\n",
              " 'Work_Location',\n",
              " 'Stress_Level',\n",
              " 'Mental_Health_Condition',\n",
              " 'Access_to_Mental_Health_Resources',\n",
              " 'Productivity_Change',\n",
              " 'Satisfaction_with_Remote_Work',\n",
              " 'Physical_Activity',\n",
              " 'Sleep_Quality',\n",
              " 'Region']"
            ]
          },
          "metadata": {},
          "execution_count": 44
        }
      ]
    },
    {
      "cell_type": "code",
      "source": [
        "df.to_csv('/content/drive/MyDrive/Data Analyst Screenesia/Impact_of_Remote_Work_on_Mental_Health_Clean.csv', index=False)"
      ],
      "metadata": {
        "id": "aT5wFcC_2HKw"
      },
      "execution_count": null,
      "outputs": []
    },
    {
      "cell_type": "markdown",
      "source": [
        "## Explortory Data Analysis (EDA)"
      ],
      "metadata": {
        "id": "wgTX1GN-DDXh"
      }
    },
    {
      "cell_type": "code",
      "source": [
        "# Statistik Dasar per Variabel\n",
        "print(\"\\nStatistik penting:\")\n",
        "for col in numeric_cols:\n",
        "    mean_val = df[col].mean()\n",
        "    median_val = df[col].median()\n",
        "    min_val = df[col].min()\n",
        "    max_val = df[col].max()\n",
        "    print(f\"\\n{col}:\")\n",
        "    print(f\"  - Rata-rata: {mean_val:.2f}\")\n",
        "    print(f\"  - Median: {median_val:.2f}\")\n",
        "    print(f\"  - Minimum: {min_val:.2f}\")\n",
        "    print(f\"  - Maximum: {max_val:.2f}\")"
      ],
      "metadata": {
        "colab": {
          "base_uri": "https://localhost:8080/"
        },
        "id": "usCxvTLreLrN",
        "outputId": "b977b62d-e688-4a9b-c058-a90f9fbae8d9"
      },
      "execution_count": null,
      "outputs": [
        {
          "output_type": "stream",
          "name": "stdout",
          "text": [
            "\n",
            "Statistik penting:\n",
            "\n",
            "Age:\n",
            "  - Rata-rata: 40.99\n",
            "  - Median: 41.00\n",
            "  - Minimum: 22.00\n",
            "  - Maximum: 60.00\n",
            "\n",
            "Years_of_Experience:\n",
            "  - Rata-rata: 17.81\n",
            "  - Median: 18.00\n",
            "  - Minimum: 1.00\n",
            "  - Maximum: 35.00\n",
            "\n",
            "Hours_Worked_Per_Week:\n",
            "  - Rata-rata: 39.61\n",
            "  - Median: 40.00\n",
            "  - Minimum: 20.00\n",
            "  - Maximum: 60.00\n",
            "\n",
            "Number_of_Virtual_Meetings:\n",
            "  - Rata-rata: 7.56\n",
            "  - Median: 8.00\n",
            "  - Minimum: 0.00\n",
            "  - Maximum: 15.00\n",
            "\n",
            "Work_Life_Balance_Rating:\n",
            "  - Rata-rata: 2.98\n",
            "  - Median: 3.00\n",
            "  - Minimum: 1.00\n",
            "  - Maximum: 5.00\n",
            "\n",
            "Social_Isolation_Rating:\n",
            "  - Rata-rata: 2.99\n",
            "  - Median: 3.00\n",
            "  - Minimum: 1.00\n",
            "  - Maximum: 5.00\n",
            "\n",
            "Company_Support_for_Remote_Work:\n",
            "  - Rata-rata: 3.01\n",
            "  - Median: 3.00\n",
            "  - Minimum: 1.00\n",
            "  - Maximum: 5.00\n"
          ]
        }
      ]
    },
    {
      "cell_type": "markdown",
      "source": [
        "## 1. Bagaimana lokasi kerja mempengaruhi tingkat stres?"
      ],
      "metadata": {
        "id": "Vp_v7necsZ-x"
      }
    },
    {
      "cell_type": "code",
      "source": [
        "stress_map = {'Low': 1, 'Medium': 2, 'High': 3}\n",
        "df['Stress_Level_Num'] = df['Stress_Level'].map(stress_map)"
      ],
      "metadata": {
        "id": "AfSK3Ie4sV1j"
      },
      "execution_count": null,
      "outputs": []
    },
    {
      "source": [
        "plt.figure(figsize=(12, 7))\n",
        "for container in sns.histplot(data=df, x='Stress_Level_Num', hue='Work_Location', multiple='dodge', binwidth=0.5).containers:\n",
        "    plt.bar_label(container)\n",
        "\n",
        "plt.title('Distribusi Tingkat Stres berdasarkan Lokasi Kerja')\n",
        "plt.xlabel('Skor Tingkat Stres')\n",
        "plt.ylabel('Jumlah Karyawan')\n",
        "plt.xticks([1, 2, 3], ['Low', 'Medium', 'High'])\n",
        "plt.show()"
      ],
      "cell_type": "code",
      "metadata": {
        "colab": {
          "base_uri": "https://localhost:8080/",
          "height": 634
        },
        "id": "XX1YiUCQtc1N",
        "outputId": "27e403e1-e28c-4804-bff4-5e8654c91120"
      },
      "execution_count": null,
      "outputs": [
        {
          "output_type": "display_data",
          "data": {
            "text/plain": [
              "<Figure size 1200x700 with 1 Axes>"
            ],
            "image/png": "[encoded data removed]"
          },
          "metadata": {}
        }
      ]
    },
    {
      "cell_type": "code",
      "source": [
        "stress_order = ['Low', 'Medium', 'High']\n",
        "\n",
        "plt.figure(figsize=(10, 6))\n",
        "ax = sns.countplot(data=df, x='Stress_Level', hue='Work_Location', order=stress_order)\n",
        "\n",
        "# Tambahkan label di atas bar\n",
        "for container in ax.containers:\n",
        "    ax.bar_label(container, padding=3)\n",
        "\n",
        "# Judul dan label\n",
        "plt.title('Distribusi Tingkat Stres berdasarkan Lokasi Kerja')\n",
        "plt.xlabel('Skor Tingkat Stres')\n",
        "plt.ylabel('Jumlah Karyawan')\n",
        "\n",
        "# Pindahkan legenda ke kanan luar\n",
        "plt.legend(title='Work Location', bbox_to_anchor=(1.05, 1), loc='upper left')\n",
        "\n",
        "# Hapus angka \"0 0 0\" dengan memastikan x hanya label kategori\n",
        "plt.xticks(ticks=range(len(stress_order)), labels=stress_order)\n",
        "\n",
        "plt.tight_layout()\n",
        "plt.show()"
      ],
      "metadata": {
        "colab": {
          "base_uri": "https://localhost:8080/",
          "height": 607
        },
        "id": "8aDuMfz-4HJF",
        "outputId": "b3181dab-a665-4ffa-b8ad-c4e4d1a7fbff"
      },
      "execution_count": null,
      "outputs": [
        {
          "output_type": "display_data",
          "data": {
            "text/plain": [
              "<Figure size 1000x600 with 1 Axes>"
            ],
            "image/png": "[encoded data removed]"
          },
          "metadata": {}
        }
      ]
    },
    {
      "cell_type": "markdown",
      "source": [
        "## 2. Derajat isolasi sosial mana yang lebih besar pada tiap lokasi kerja?"
      ],
      "metadata": {
        "id": "FvHMnFQFsdt2"
      }
    },
    {
      "cell_type": "code",
      "source": [
        "isolation_mean = df.groupby('Work_Location')['Social_Isolation_Rating'].mean().reset_index()\n",
        "sns.barplot(x='Work_Location', y='Social_Isolation_Rating', data=isolation_mean)\n",
        "plt.title('Isolasi Sosial rata-rata per Lokasi Kerja')\n",
        "plt.show()"
      ],
      "metadata": {
        "colab": {
          "base_uri": "https://localhost:8080/",
          "height": 465
        },
        "id": "mNBsVtCUseDN",
        "outputId": "89f10b43-c7ce-4ab1-981c-819b1cba86f0"
      },
      "execution_count": null,
      "outputs": [
        {
          "output_type": "display_data",
          "data": {
            "text/plain": [
              "<Figure size 640x480 with 1 Axes>"
            ],
            "image/png": "[encoded data removed]"
          },
          "metadata": {}
        }
      ]
    },
    {
      "cell_type": "markdown",
      "source": [
        "## 3. Bagaimana tingkat kepuasan karyawan terhadap sistem kerja jarak jauh?"
      ],
      "metadata": {
        "id": "CbOnhuJYseZY"
      }
    },
    {
      "cell_type": "code",
      "source": [
        "# Konversi Satisfaction ke angka (1,3,5)\n",
        "satisfaction_mapping = {'Unsatisfied': 1, 'Neutral': 3, 'Satisfied': 5}\n",
        "df['Satisfaction_with_Remote_Work_Num'] = df['Satisfaction_with_Remote_Work'].map(satisfaction_mapping)\n",
        "\n",
        "# Hitung rata-rata kepuasan per lokasi kerja\n",
        "satisfaction_mean = df.groupby('Work_Location')['Satisfaction_with_Remote_Work_Num'].mean()\n",
        "support_mean = df.groupby('Work_Location')['Company_Support_for_Remote_Work'].mean()\n",
        "\n",
        "# Siapkan label dan nilai\n",
        "labels = ['Remote', 'Onsite', 'Hybrid']  # Sesuai urutan di Power BI\n",
        "satisfaction_values = [satisfaction_mean[label] for label in labels]\n",
        "support_values = [support_mean[label] for label in labels]\n",
        "\n",
        "# Tambahkan titik pertama ke akhir\n",
        "satisfaction_values += [satisfaction_values[0]]\n",
        "support_values += [support_values[0]]\n",
        "\n",
        "angles = [n / float(len(labels)) * 2 * pi for n in range(len(labels))]\n",
        "angles += [angles[0]]\n",
        "\n",
        "# Buat plot\n",
        "plt.figure(figsize=(6, 6))\n",
        "ax = plt.subplot(111, polar=True)\n",
        "\n",
        "# Plot Satisfaction\n",
        "ax.plot(angles, satisfaction_values, label='Satisfaction', color='blue', linewidth=2)\n",
        "ax.fill(angles, satisfaction_values, color='skyblue', alpha=0.3)\n",
        "\n",
        "# Plot Support\n",
        "ax.plot(angles, support_values, label='Support', color='orange', linewidth=2)\n",
        "ax.fill(angles, support_values, color='orange', alpha=0.3)\n",
        "\n",
        "# Label dan judul\n",
        "ax.set_xticks(angles[:-1])\n",
        "ax.set_xticklabels(labels)\n",
        "ax.set_title('Average Satisfaction and Support for Remote Work', y=1.1)\n",
        "ax.set_ylim(0, 5)\n",
        "ax.legend(loc='upper right', bbox_to_anchor=(1.1, 1.1))\n",
        "\n",
        "plt.show()"
      ],
      "metadata": {
        "colab": {
          "base_uri": "https://localhost:8080/",
          "height": 565
        },
        "id": "9_lQXLNeseqA",
        "outputId": "dbd9fbeb-b33a-4ade-d394-f49f4cfc4de0"
      },
      "execution_count": null,
      "outputs": [
        {
          "output_type": "display_data",
          "data": {
            "text/plain": [
              "<Figure size 600x600 with 1 Axes>"
            ],
            "image/png": "[encoded data removed]"
          },
          "metadata": {}
        }
      ]
    },
    {
      "cell_type": "markdown",
      "source": [
        "## 4. Seberapa besar dukungan perusahaan terhadap program kerja jarak jauh?"
      ],
      "metadata": {
        "id": "wHtSTjP5se_O"
      }
    },
    {
      "cell_type": "code",
      "source": [
        "df['Support_Level'] = pd.cut(df['Company_Support_for_Remote_Work'], bins=[-1,2,4,5], labels=['rendah','sedang','tinggi'])\n",
        "df['Support_Level'].value_counts().plot.pie(autopct='%1.1f%%')\n",
        "plt.title('Tingkat Dukungan terhadap Kerja Jarak Jauh')\n",
        "plt.ylabel('')\n",
        "plt.show()"
      ],
      "metadata": {
        "colab": {
          "base_uri": "https://localhost:8080/",
          "height": 426
        },
        "id": "gsNfAzc5sfQ-",
        "outputId": "ff0617d3-98c4-4488-c1be-ffb2292cdf6a"
      },
      "execution_count": null,
      "outputs": [
        {
          "output_type": "display_data",
          "data": {
            "text/plain": [
              "<Figure size 640x480 with 1 Axes>"
            ],
            "image/png": "[encoded data removed]"
          },
          "metadata": {}
        }
      ]
    },
    {
      "cell_type": "markdown",
      "source": [
        "## 5. Bagaimana hubungan antara aktivitas fisik dan kualitas tidur dengan kondisi mental?"
      ],
      "metadata": {
        "id": "JRsUDfMssoE9"
      }
    },
    {
      "cell_type": "code",
      "source": [
        "# Mapping kategori ke angka\n",
        "mental_map = {\n",
        "    'None': 0,\n",
        "    'Anxiety': 1,\n",
        "    'Depression': 2,\n",
        "    'Burnout': 3\n",
        "}\n",
        "\n",
        "activity_map = {\n",
        "    'None': 0,\n",
        "    'Weekly': 1,\n",
        "    'Daily': 2\n",
        "}\n",
        "\n",
        "sleep_map = {\n",
        "    'Poor': 1,\n",
        "    'Average': 2,\n",
        "    'Good': 3\n",
        "}\n",
        "\n",
        "# Terapkan mapping ke dataframe\n",
        "df['Mental_Health_Condition_Num'] = df['Mental_Health_Condition'].map(mental_map)\n",
        "df['Physical_Activity_Num'] = df['Physical_Activity'].map(activity_map)\n",
        "df['Sleep_Quality_Num'] = df['Sleep_Quality'].map(sleep_map)\n"
      ],
      "metadata": {
        "id": "G2N5i0Cpspom"
      },
      "execution_count": null,
      "outputs": []
    },
    {
      "cell_type": "code",
      "source": [
        "import seaborn as sns\n",
        "import matplotlib.pyplot as plt\n",
        "\n",
        "# Ambil kolom yang sudah dikonversi\n",
        "korelasi_df = df[['Physical_Activity_Num', 'Sleep_Quality_Num', 'Mental_Health_Condition_Num']]\n",
        "\n",
        "# Hitung korelasi\n",
        "corr_matrix = korelasi_df.corr()\n",
        "\n",
        "# Plot heatmap\n",
        "plt.figure(figsize=(8,6))\n",
        "sns.heatmap(corr_matrix, annot=True, cmap='coolwarm', fmt=\".2f\")\n",
        "plt.title(\"Korelasi antara Aktivitas Fisik, Kualitas Tidur, dan Kondisi Mental\")\n",
        "plt.show()"
      ],
      "metadata": {
        "colab": {
          "base_uri": "https://localhost:8080/",
          "height": 538
        },
        "id": "g61fx1Ve-b82",
        "outputId": "698f80d4-3b83-4107-b200-6c007e304f4d"
      },
      "execution_count": null,
      "outputs": [
        {
          "output_type": "display_data",
          "data": {
            "text/plain": [
              "<Figure size 800x600 with 2 Axes>"
            ],
            "image/png": "[encoded data removed]"
          },
          "metadata": {}
        }
      ]
    },
    {
      "cell_type": "code",
      "source": [],
      "metadata": {
        "id": "T66UYOsj-eL6"
      },
      "execution_count": null,
      "outputs": []
    }
  ]
}